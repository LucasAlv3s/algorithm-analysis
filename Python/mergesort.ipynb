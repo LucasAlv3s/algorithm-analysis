{
  "nbformat": 4,
  "nbformat_minor": 0,
  "metadata": {
    "colab": {
      "provenance": []
    },
    "kernelspec": {
      "name": "python3",
      "display_name": "Python 3"
    },
    "language_info": {
      "name": "python"
    }
  },
  "cells": [
    {
      "cell_type": "markdown",
      "source": [
        "# Merge Sort in Python.\n",
        "\n",
        "This implementation has a time complexity of O(n * log(n))."
      ],
      "metadata": {
        "id": "PhyQvaKEXmBf"
      }
    },
    {
      "cell_type": "code",
      "execution_count": 6,
      "metadata": {
        "id": "vyZWUCWGWwN4"
      },
      "outputs": [],
      "source": [
        "def merge_sort(arr):\n",
        "    if len(arr) <= 1:\n",
        "        return arr\n",
        "    mid = len(arr) // 2\n",
        "    left = merge_sort(arr[:mid])\n",
        "    right = merge_sort(arr[mid:])\n",
        "    return merge(left, right)\n",
        "\n",
        "def merge(left, right):\n",
        "    result = []\n",
        "    left_idx, right_idx = 0, 0\n",
        "    while left_idx < len(left) and right_idx < len(right):\n",
        "        if left[left_idx] < right[right_idx]:\n",
        "            result.append(left[left_idx])\n",
        "            left_idx += 1\n",
        "        else:\n",
        "            result.append(right[right_idx])\n",
        "            right_idx += 1\n",
        "    result.extend(left[left_idx:])\n",
        "    result.extend(right[right_idx:])\n",
        "    return result\n"
      ]
    },
    {
      "cell_type": "code",
      "source": [
        "arr = [5, 3, 2, 4, 1]\n",
        "sorted_arr = merge_sort(arr)\n",
        "print(sorted_arr)  # [1, 2, 3, 4, 5]"
      ],
      "metadata": {
        "colab": {
          "base_uri": "https://localhost:8080/"
        },
        "id": "NL27z_8RW779",
        "outputId": "cbc23413-fa1e-468a-f77a-141eb0df685e"
      },
      "execution_count": 8,
      "outputs": [
        {
          "output_type": "stream",
          "name": "stdout",
          "text": [
            "[1, 2, 3, 4, 5]\n"
          ]
        }
      ]
    },
    {
      "cell_type": "code",
      "source": [],
      "metadata": {
        "id": "iJVXuChNXRgy"
      },
      "execution_count": null,
      "outputs": []
    }
  ]
}