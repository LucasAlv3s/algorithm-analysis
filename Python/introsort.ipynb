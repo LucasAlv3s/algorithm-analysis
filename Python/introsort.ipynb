{
  "nbformat": 4,
  "nbformat_minor": 0,
  "metadata": {
    "colab": {
      "provenance": []
    },
    "kernelspec": {
      "name": "python3",
      "display_name": "Python 3"
    },
    "language_info": {
      "name": "python"
    }
  },
  "cells": [
    {
      "cell_type": "markdown",
      "source": [
        "# Introsort in python"
      ],
      "metadata": {
        "id": "BIYj1QxKbeYp"
      }
    },
    {
      "cell_type": "markdown",
      "source": [
        "In Python, introsort is an implementation of the introsort algorithm, which is a hybrid sorting algorithm that combines elements of quicksort and heapsort. It begins by using quicksort to sort the elements, but if the recursion depth becomes too large, it will switch to using heapsort to complete the sorting process. This helps to ensure that the algorithm has good performance in the average case, while also being efficient in the worst case.\n",
        "\n",
        "Here is an example of how introsort might be used in Python:"
      ],
      "metadata": {
        "id": "PwMUhPfzbdVF"
      }
    },
    {
      "cell_type": "code",
      "execution_count": 1,
      "metadata": {
        "colab": {
          "base_uri": "https://localhost:8080/"
        },
        "id": "mpHIhwoMbbE8",
        "outputId": "b17c06be-89e9-4b0f-bb63-731065936f2b"
      },
      "outputs": [
        {
          "output_type": "stream",
          "name": "stdout",
          "text": [
            "[0, 1, 2, 3, 4, 5, 6, 7, 8, 9]\n"
          ]
        }
      ],
      "source": [
        "from functools import cmp_to_key\n",
        "from random import shuffle\n",
        "\n",
        "def compare(x, y):\n",
        "    if x < y:\n",
        "        return -1\n",
        "    elif x > y:\n",
        "        return 1\n",
        "    else:\n",
        "        return 0\n",
        "\n",
        "def introsort(lst):\n",
        "    return sorted(lst, key=cmp_to_key(compare))\n",
        "\n",
        "# Generate a list of random numbers\n",
        "numbers = [i for i in range(10)]\n",
        "shuffle(numbers)\n",
        "\n",
        "# Sort the list using introsort\n",
        "sorted_numbers = introsort(numbers)\n",
        "print(sorted_numbers)\n"
      ]
    },
    {
      "cell_type": "markdown",
      "source": [
        "This will output a sorted version of the numbers list."
      ],
      "metadata": {
        "id": "2-wREb5vbnu2"
      }
    },
    {
      "cell_type": "code",
      "source": [],
      "metadata": {
        "id": "MRoJNpzYbiMD"
      },
      "execution_count": null,
      "outputs": []
    }
  ]
}