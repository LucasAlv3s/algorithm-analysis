{
  "nbformat": 4,
  "nbformat_minor": 0,
  "metadata": {
    "colab": {
      "provenance": []
    },
    "kernelspec": {
      "name": "python3",
      "display_name": "Python 3"
    },
    "language_info": {
      "name": "python"
    }
  },
  "cells": [
    {
      "cell_type": "markdown",
      "source": [
        "# Heapsort in python\n",
        "\n",
        "Heapsort is an efficient sorting algorithm that uses a heap data structure to sort a list of integers in ascending order. Here is an example of how you could implement heapsort in Python:"
      ],
      "metadata": {
        "id": "Aoqy5XVBakFx"
      }
    },
    {
      "cell_type": "code",
      "execution_count": 1,
      "metadata": {
        "colab": {
          "base_uri": "https://localhost:8080/"
        },
        "id": "N-pL4yQ7aeel",
        "outputId": "287921cb-93f1-463b-95e2-f5412a7188d8"
      },
      "outputs": [
        {
          "output_type": "stream",
          "name": "stdout",
          "text": [
            "[1, 2, 3, 4, 5]\n"
          ]
        }
      ],
      "source": [
        "def heapsort(lst):\n",
        "    # Create a max heap from the list\n",
        "    heapify(lst)\n",
        "    \n",
        "    # Extract elements from the heap one by one, starting with the last element in the list\n",
        "    for i in range(len(lst) - 1, -1, -1):\n",
        "        # Swap the current element with the first element (which is the maximum element in the heap)\n",
        "        lst[0], lst[i] = lst[i], lst[0]\n",
        "        # Re-heapify the list to maintain the max heap property\n",
        "        siftdown(lst, 0, i)\n",
        "\n",
        "def heapify(lst):\n",
        "    # Start from the last non-leaf node and work backwards\n",
        "    for i in range(len(lst) // 2 - 1, -1, -1):\n",
        "        siftdown(lst, i, len(lst))\n",
        "\n",
        "def siftdown(lst, i, end):\n",
        "    left = 2 * i + 1\n",
        "    right = 2 * i + 2\n",
        "    largest = i\n",
        "    if left < end and lst[left] > lst[largest]:\n",
        "        largest = left\n",
        "    if right < end and lst[right] > lst[largest]:\n",
        "        largest = right\n",
        "    if largest != i:\n",
        "        lst[i], lst[largest] = lst[largest], lst[i]\n",
        "        siftdown(lst, largest, end)\n",
        "\n",
        "# Test the heapsort function\n",
        "lst = [3, 5, 2, 1, 4]\n",
        "heapsort(lst)\n",
        "print(lst)  # Output: [1, 2, 3, 4, 5]\n"
      ]
    },
    {
      "cell_type": "markdown",
      "source": [
        "This implementation first builds a max heap from the input list using the heapify function. Then, it repeatedly extracts the maximum element from the heap and places it at the end of the sorted list, until the heap is empty. The siftdown function is used to maintain the max heap property during the heapification and extraction process."
      ],
      "metadata": {
        "id": "iFsjDg7iatMQ"
      }
    },
    {
      "cell_type": "code",
      "source": [],
      "metadata": {
        "id": "MWQLhOuqahVQ"
      },
      "execution_count": null,
      "outputs": []
    }
  ]
}