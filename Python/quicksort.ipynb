{
  "nbformat": 4,
  "nbformat_minor": 0,
  "metadata": {
    "colab": {
      "provenance": []
    },
    "kernelspec": {
      "name": "python3",
      "display_name": "Python 3"
    },
    "language_info": {
      "name": "python"
    }
  },
  "cells": [
    {
      "cell_type": "markdown",
      "source": [
        "# Quicksort in python.\n"
      ],
      "metadata": {
        "id": "-PF-ikl5ZcFD"
      }
    },
    {
      "cell_type": "markdown",
      "source": [
        "This implementation takes in an array and returns a sorted version of the array using the quicksort algorithm. The function works by selecting the first element of the array as the pivot, and then partitioning the rest of the array into two subarrays: one containing elements less than or equal to the pivot, and the other containing elements greater than the pivot. It then recursively sorts the subarrays and combines them with the pivot to obtain the final sorted array."
      ],
      "metadata": {
        "id": "hwKnvWx-ZqfO"
      }
    },
    {
      "cell_type": "code",
      "execution_count": 1,
      "metadata": {
        "id": "iCUFeF7QZG1K"
      },
      "outputs": [],
      "source": [
        "def quicksort(array):\n",
        "    if len(array) < 2:\n",
        "        return array\n",
        "    else:\n",
        "        pivot = array[0]\n",
        "        less = [i for i in array[1:] if i <= pivot]\n",
        "        greater = [i for i in array[1:] if i > pivot]\n",
        "        return quicksort(less) + [pivot] + quicksort(greater)"
      ]
    },
    {
      "cell_type": "code",
      "source": [],
      "metadata": {
        "id": "AUzkRc61ZgOc"
      },
      "execution_count": null,
      "outputs": []
    }
  ]
}