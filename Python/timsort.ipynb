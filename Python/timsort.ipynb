{
  "nbformat": 4,
  "nbformat_minor": 0,
  "metadata": {
    "colab": {
      "provenance": []
    },
    "kernelspec": {
      "name": "python3",
      "display_name": "Python 3"
    },
    "language_info": {
      "name": "python"
    }
  },
  "cells": [
    {
      "cell_type": "markdown",
      "source": [
        "# Timsort in python"
      ],
      "metadata": {
        "id": "c4OlzuSfcv_z"
      }
    },
    {
      "cell_type": "markdown",
      "source": [
        "Timsort is a sorting algorithm that is efficient for both small and large lists. It is a hybrid sorting algorithm, meaning that it uses both comparison-based and non-comparison-based sorting techniques. Timsort was developed by Tim Peters in 2002 and is the default sorting algorithm for Python since version 2.3.\n",
        "\n",
        "Timsort works by first dividing the list into small chunks called runs. It then sorts these runs using a modified version of merge sort and finally merges the sorted runs together to produce the final sorted list.\n",
        "\n",
        "One of the key features of Timsort is that it is stable, meaning that the order of elements that compare equal will be preserved. It is also adaptive, meaning that it performs better on lists that are partially sorted or have some known structure.\n",
        "\n",
        "In Python, the timsort algorithm is implemented in the sorted() function and the list.sort() method. You can use these functions to sort a list in ascending order like this:"
      ],
      "metadata": {
        "id": "skqzKPP6cuxF"
      }
    },
    {
      "cell_type": "code",
      "execution_count": 1,
      "metadata": {
        "colab": {
          "base_uri": "https://localhost:8080/"
        },
        "id": "5y4A9f8Cb2Sm",
        "outputId": "bb197c06-579b-499f-c107-1368e9fbb78e"
      },
      "outputs": [
        {
          "output_type": "stream",
          "name": "stdout",
          "text": [
            "[1, 2, 3, 4]\n",
            "[1, 2, 3, 4]\n"
          ]
        }
      ],
      "source": [
        "my_list = [3, 4, 2, 1]\n",
        "sorted_list = sorted(my_list)\n",
        "print(sorted_list)  # prints [1, 2, 3, 4]\n",
        "\n",
        "my_list.sort()\n",
        "print(my_list)  # prints [1, 2, 3, 4]"
      ]
    },
    {
      "cell_type": "markdown",
      "source": [
        "You can also use the reverse argument to sort the list in descending order:"
      ],
      "metadata": {
        "id": "QMSXncbhc3I_"
      }
    },
    {
      "cell_type": "code",
      "source": [
        "sorted_list = sorted(my_list, reverse=True)\n",
        "print(sorted_list)  # prints [4, 3, 2, 1]\n",
        "\n",
        "my_list.sort(reverse=True)\n",
        "print(my_list)  # prints [4, 3, 2, 1]"
      ],
      "metadata": {
        "colab": {
          "base_uri": "https://localhost:8080/"
        },
        "id": "QF3o2JjCc0VT",
        "outputId": "4941f674-5564-4a16-ef87-99ad630a96b6"
      },
      "execution_count": 2,
      "outputs": [
        {
          "output_type": "stream",
          "name": "stdout",
          "text": [
            "[4, 3, 2, 1]\n",
            "[4, 3, 2, 1]\n"
          ]
        }
      ]
    },
    {
      "cell_type": "code",
      "source": [],
      "metadata": {
        "id": "I8qPTWElc54F"
      },
      "execution_count": null,
      "outputs": []
    }
  ]
}